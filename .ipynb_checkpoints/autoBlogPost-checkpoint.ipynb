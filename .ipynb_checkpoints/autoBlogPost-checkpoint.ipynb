{
 "cells": [
  {
   "cell_type": "code",
   "execution_count": 5,
   "id": "f443ab03",
   "metadata": {},
   "outputs": [],
   "source": [
    "import os\n",
    "from dotenv import load_dotenv\n",
    "load_dotenv()\n",
    "import openai\n",
    "openai.api_key = os.getenv(\"OPENAI_API_KEY\")"
   ]
  },
  {
   "cell_type": "code",
   "execution_count": 6,
   "id": "c97f0bd6",
   "metadata": {},
   "outputs": [],
   "source": [
    "from git import Repo"
   ]
  },
  {
   "cell_type": "code",
   "execution_count": 7,
   "id": "d9820cdc",
   "metadata": {},
   "outputs": [],
   "source": [
    "from pathlib import Path"
   ]
  },
  {
   "cell_type": "code",
   "execution_count": 8,
   "id": "d3723f49",
   "metadata": {},
   "outputs": [
    {
     "data": {
      "text/plain": [
       "'/Users/graceli/githubio'"
      ]
     },
     "execution_count": 8,
     "metadata": {},
     "output_type": "execute_result"
    }
   ],
   "source": [
    "pwd"
   ]
  },
  {
   "cell_type": "code",
   "execution_count": 9,
   "id": "dfaacbdd",
   "metadata": {},
   "outputs": [],
   "source": [
    "PATH_TO_BLOG_REPO = Path('/Users/graceli/githubio/.git')"
   ]
  },
  {
   "cell_type": "code",
   "execution_count": 10,
   "id": "2f1cb9c8",
   "metadata": {},
   "outputs": [
    {
     "name": "stdout",
     "output_type": "stream",
     "text": [
      "/Users/graceli/githubio/.git\n"
     ]
    }
   ],
   "source": [
    "print(PATH_TO_BLOG_REPO)"
   ]
  },
  {
   "cell_type": "code",
   "execution_count": 11,
   "id": "f76c284b",
   "metadata": {},
   "outputs": [],
   "source": [
    "PATH_TO_BLOG = PATH_TO_BLOG_REPO.parent"
   ]
  },
  {
   "cell_type": "code",
   "execution_count": 12,
   "id": "f2716711",
   "metadata": {},
   "outputs": [],
   "source": [
    "PATH_TO_CONTENT = PATH_TO_BLOG/\"content\""
   ]
  },
  {
   "cell_type": "code",
   "execution_count": 13,
   "id": "d9dca4fa",
   "metadata": {},
   "outputs": [],
   "source": [
    "PATH_TO_CONTENT.mkdir(exist_ok=True, parents=True)"
   ]
  },
  {
   "cell_type": "code",
   "execution_count": 14,
   "id": "52e5aaba",
   "metadata": {},
   "outputs": [],
   "source": [
    "def update_blog(commit_message = 'Updates blog'):\n",
    "    # GitPython -- Repo Location\n",
    "    repo = Repo(PATH_TO_BLOG_REPO)\n",
    "    #git add .\n",
    "    repo.git.add(all=True)\n",
    "    #git commit -m \"update blog\"\n",
    "    repo.index.commit(commit_message)\n",
    "    #git push\n",
    "    origin = repo.remote(name='origin')\n",
    "    origin.push()"
   ]
  },
  {
   "cell_type": "code",
   "execution_count": 15,
   "id": "577c412d",
   "metadata": {},
   "outputs": [],
   "source": [
    "random_text_string = 'lkjlsdkfjlkjglkjdslfkjdf'"
   ]
  },
  {
   "cell_type": "code",
   "execution_count": 16,
   "id": "358b9659",
   "metadata": {},
   "outputs": [],
   "source": [
    "with open(PATH_TO_BLOG/\"index.html\", 'w') as f:\n",
    "    f.write(random_text_string)"
   ]
  },
  {
   "cell_type": "code",
   "execution_count": 17,
   "id": "4d0e4abc",
   "metadata": {},
   "outputs": [],
   "source": [
    "update_blog()"
   ]
  },
  {
   "cell_type": "code",
   "execution_count": 27,
   "id": "ea53bbad",
   "metadata": {},
   "outputs": [],
   "source": [
    "import shutil\n",
    "def create_new_blog(title, content, cover_image):\n",
    "    cover_image = Path(cover_image)\n",
    "    \n",
    "    files = len(list(PATH_TO_CONTENT.glob(\"*.html\")))\n",
    "    new_title = f\"{files+1}.html\"\n",
    "    path_to_new_content = PATH_TO_CONTENT/new_title\n",
    "    \n",
    "    shutil.copy(cover_image, PATH_TO_CONTENT)\n",
    "    \n",
    "    if not os.path.exists(path_to_new_content):\n",
    "        # WRITE A NEW HTML FILE\n",
    "        with open(path_to_new_content, \"w\") as f:\n",
    "            f.write(\"<!DOCTYPE html>\\n\")\n",
    "            f.write(\"<html>\\n\")\n",
    "            f.write(\"<head>\\n\")\n",
    "            f.write(f\"<title> {title} </title>\\n\")\n",
    "            f.write(\"</head>\\n\")\n",
    "            \n",
    "            f.write(\"<body>\\n\")\n",
    "            f.write(f\"<img src='{cover_image.name}' alt='Cover Image'> <br />\\n\")\n",
    "            f.write(f\"<h1> {title} </h1>\")\n",
    "            f.write(content.replace(\"\\n\", \"<br />\\n\"))\n",
    "            f.write(\"</body>\\n\")\n",
    "            f.write(\"</html>\\n\")\n",
    "            print(\"Blog created\")\n",
    "            return path_to_new_content\n",
    "    else:\n",
    "        raise FileExistsError(\"File already exists!\")"
   ]
  },
  {
   "cell_type": "code",
   "execution_count": 31,
   "id": "7062a20d",
   "metadata": {},
   "outputs": [],
   "source": [
    "# Index.html --> Blog Posts"
   ]
  },
  {
   "cell_type": "code",
   "execution_count": 37,
   "id": "0d5f5a3e",
   "metadata": {},
   "outputs": [],
   "source": [
    "from bs4 import BeautifulSoup as Soup\n",
    "with open(PATH_TO_BLOG/\"index.html\") as index:\n",
    "    soup =Soup(index.read())"
   ]
  },
  {
   "cell_type": "code",
   "execution_count": 38,
   "id": "af9f08e3",
   "metadata": {},
   "outputs": [
    {
     "data": {
      "text/plain": [
       "'<html lang=\"en\">\\n<head>\\n<meta charset=\"utf-8\"/>\\n<meta content=\"IE=edge\" http-equiv=\"X-UA-Compatible\"/>\\n<meta content=\"width=device-width, initial-scale=1.0\" name=\"viewport\"/>\\n<title>Document</title>\\n</head>\\n<body>\\n<h1>My BLOG HOME PAGE</h1>\\n<a href=\"index.html\">Home</a>\\n</body>\\n</html>'"
      ]
     },
     "execution_count": 38,
     "metadata": {},
     "output_type": "execute_result"
    }
   ],
   "source": [
    "str(soup)"
   ]
  },
  {
   "cell_type": "code",
   "execution_count": 39,
   "id": "5966ec3f",
   "metadata": {},
   "outputs": [],
   "source": [
    "def check_for_duplicate_links(path_to_new_content, link):\n",
    "    urls = [str(link.get(\"href\")) for link in links]\n",
    "    content_path = str(Path(*path_to_new_content.parts[-2:]))\n",
    "    return content_path in urls"
   ]
  },
  {
   "cell_type": "code",
   "execution_count": 40,
   "id": "76626950",
   "metadata": {},
   "outputs": [],
   "source": [
    "def write_to_index(path_to_new_content):\n",
    "    with open(PATH_TO_BLOG/'index.html') as index:\n",
    "        soup = Soup(index.read())\n",
    "        \n",
    "    links = soup.find_all('a')\n",
    "    last_link = links[-1]\n",
    "    \n",
    "    if check_for_duplicate_links(path_to_new_content, links):\n",
    "        raise ValueError(\"Link Already exists\")\n",
    "    link_to_new_blog = soup.new_tag(\"a\", href = Path(*path_to_new_content.parts[-2:]))\n",
    "    link_to_new_blog.string = path_to_new_content.name.split('.')[0]\n",
    "    last_link.insert_after(link_to_new_blog)\n",
    "    \n",
    "    with open(PATH_TO_BLOG/'index.html', 'w') as f:\n",
    "        f.write(str(soup.prettify(formatter='html')))"
   ]
  },
  {
   "cell_type": "code",
   "execution_count": 41,
   "id": "8f8a2257",
   "metadata": {},
   "outputs": [
    {
     "ename": "NameError",
     "evalue": "name 'path_to_new_content' is not defined",
     "output_type": "error",
     "traceback": [
      "\u001b[0;31m---------------------------------------------------------------------------\u001b[0m",
      "\u001b[0;31mNameError\u001b[0m                                 Traceback (most recent call last)",
      "Cell \u001b[0;32mIn[41], line 1\u001b[0m\n\u001b[0;32m----> 1\u001b[0m write_to_index(\u001b[43mpath_to_new_content\u001b[49m)\n",
      "\u001b[0;31mNameError\u001b[0m: name 'path_to_new_content' is not defined"
     ]
    }
   ],
   "source": [
    "write_to_index(path_to_new_content)"
   ]
  },
  {
   "cell_type": "code",
   "execution_count": null,
   "id": "d8c92662",
   "metadata": {},
   "outputs": [],
   "source": []
  }
 ],
 "metadata": {
  "kernelspec": {
   "display_name": "Python 3 (ipykernel)",
   "language": "python",
   "name": "python3"
  },
  "language_info": {
   "codemirror_mode": {
    "name": "ipython",
    "version": 3
   },
   "file_extension": ".py",
   "mimetype": "text/x-python",
   "name": "python",
   "nbconvert_exporter": "python",
   "pygments_lexer": "ipython3",
   "version": "3.11.3"
  }
 },
 "nbformat": 4,
 "nbformat_minor": 5
}
